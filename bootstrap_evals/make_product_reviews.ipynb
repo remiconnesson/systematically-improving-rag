{
 "cells": [
  {
   "cell_type": "markdown",
   "metadata": {},
   "source": [
    "# Context\n",
    "\n",
    "This course includes example code for most topics. The example code relates to building a feature that answers user questions based on previous product reviews for a hardware e-commerce website.\n",
    "\n",
    "This notebook builds the raw product description and reviews data.\n",
    "\n",
    "When you go apply course lessons in your business, you will not have an equivalent of this notebook. Because the data you retrieve from your database to answer questions will be real data from your business."
   ]
  },
  {
   "cell_type": "code",
   "execution_count": 1,
   "metadata": {},
   "outputs": [
    {
     "name": "stderr",
     "output_type": "stream",
     "text": [
      "/home/remi/code/systematically-improving-rag/.venv/lib/python3.11/site-packages/tqdm/auto.py:21: TqdmWarning: IProgress not found. Please update jupyter and ipywidgets. See https://ipywidgets.readthedocs.io/en/stable/user_install.html\n",
      "  from .autonotebook import tqdm as notebook_tqdm\n"
     ]
    }
   ],
   "source": [
    "import asyncio\n",
    "from typing import List, Dict\n",
    "import instructor\n",
    "import json\n",
    "import lancedb\n",
    "from lancedb.embeddings import get_registry\n",
    "from lancedb.pydantic import LanceModel, Vector\n",
    "from openai import AsyncOpenAI, OpenAI\n",
    "from pydantic import BaseModel"
   ]
  },
  {
   "cell_type": "code",
   "execution_count": 2,
   "metadata": {},
   "outputs": [
    {
     "data": {
      "text/plain": [
       "True"
      ]
     },
     "execution_count": 2,
     "metadata": {},
     "output_type": "execute_result"
    }
   ],
   "source": [
    "from dotenv import load_dotenv\n",
    "\n",
    "load_dotenv()"
   ]
  },
  {
   "cell_type": "code",
   "execution_count": 14,
   "metadata": {},
   "outputs": [
    {
     "data": {
      "text/plain": [
       "True"
      ]
     },
     "execution_count": 14,
     "metadata": {},
     "output_type": "execute_result"
    }
   ],
   "source": [
    "from pathlib import Path\n",
    "\n"
   ]
  },
  {
   "cell_type": "code",
   "execution_count": null,
   "metadata": {},
   "outputs": [],
   "source": [
    "client = instructor.from_openai(OpenAI())\n",
    "\n",
    "\n",
    "class Product(BaseModel):\n",
    "    title: str\n",
    "    description: str\n",
    "\n",
    "\n",
    "reviews_per_product = 10\n",
    "\n",
    "\n",
    "def generate_physical_objects(n_objects=150) -> List[Product]:\n",
    "    prompt = (\n",
    "        f\"Create a list of {n_objects} products someone might buy at a hardware store\"\n",
    "    )\n",
    "    prompt += \"Each product title should be repeated 2-3 times. Do not have any with duplicate product descriptions.\\n\"\n",
    "    prompt += \"So each product with a given title should have some small distinctions apparent from the description.\\n\"\n",
    "    prompt += (\n",
    "        \"Products can be small (a screw), large (a bandsaw) or anywhere in between.\\n\"\n",
    "    )\n",
    "    prompt += \"For each product, write a 2-3 sentence product description that might show up in a hardware retailers website underneath the product\"\n",
    "    prompt += \"Do not create product reviews that contradict specific facts in other reviews. \"\n",
    "    prompt += \"Contradicting subjective opinions in other reviews is ok only to the extent you would expect that in real data.\"\n",
    "    prompt += \"Respond only with the list of products and descriptions.\"\n",
    "\n",
    "    try:\n",
    "        objects = client.chat.completions.create(\n",
    "            model=\"gpt-4o-mini\",\n",
    "            response_model=List[Product],\n",
    "            messages=[{\"role\": \"user\", \"content\": prompt}],\n",
    "        )\n",
    "        return objects\n",
    "    except Exception as e:\n",
    "        print(f\"Error generating evals: {str(e)}\")\n",
    "        return []"
   ]
  },
  {
   "cell_type": "code",
   "execution_count": 15,
   "metadata": {},
   "outputs": [],
   "source": [
    "def save_models_to_jsonl(models: List[BaseModel], file_path: str):\n",
    "    with open(file_path, 'w') as file:\n",
    "        for model in models:\n",
    "            # Serialize model to dictionary and write to file as JSON line\n",
    "            file.write(json.dumps(model.dict()) + '\\n')"
   ]
  },
  {
   "cell_type": "code",
   "execution_count": 16,
   "metadata": {},
   "outputs": [],
   "source": [
    "from pydantic import parse_obj_as\n",
    "from typing import List\n",
    "\n",
    "def load_models_from_jsonl(file_path: str, model_type: BaseModel) -> List[BaseModel]:\n",
    "    with open(file_path, 'r') as file:\n",
    "        data = [json.loads(line) for line in file]\n",
    "    return TypeAdapter(list[model_type]).validate_python(data)"
   ]
  },
  {
   "cell_type": "code",
   "execution_count": 17,
   "metadata": {},
   "outputs": [
    {
     "name": "stdout",
     "output_type": "stream",
     "text": [
      "Loaded 126 unique objects\n",
      "First 10 objects: [Product(title='Cordless Drill', description='This lightweight cordless drill offers a powerful performance with adjustable speed settings, perfect for various drilling tasks. Its ergonomic design provides comfort during prolonged use, making it an essential tool for both DIY enthusiasts and professionals alike.'), Product(title='Cordless Drill', description='Featuring a high-capacity lithium-ion battery, this cordless drill ensures you never run out of power on the job. Its compact size allows for easier maneuverability, while the integrated LED light illuminates your workspace.'), Product(title='Cordless Drill', description='Equipped with advanced torque settings, this cordless drill can handle delicate tasks as well as heavy-duty projects. The durable construction promises longevity, and the quick-charging feature minimizes downtime.'), Product(title='Circular Saw', description='This powerful circular saw is designed for smooth cutting through various materials, including wood and metal. Its safety features and lightweight body make it a reliable choice for both home projects and professional construction.'), Product(title='Circular Saw', description='With its precision laser guide, this circular saw allows for straighter cuts and enhanced accuracy. The tool-free blade change mechanism promotes efficiency, making it an ideal addition to any tool collection.'), Product(title='Circular Saw', description='This compact circular saw delivers impressive cutting performance while maintaining a lower weight for easier handling. The integrated dust blower keeps your line of sight clear, ensuring cleaner and safer cuts.'), Product(title='Hammer Drill', description='This versatile hammer drill provides robust drilling power while offering the functionality to switch between drilling modes. Its superior grip reduces hand fatigue during extended projects, making it perfect for tougher materials.'), Product(title='Hammer Drill', description='Featuring an adjustable depth stop, this hammer drill allows you to achieve precise drilling depths with ease. Its dual-function capabilities make it an excellent tool for both drilling and hammering applications.'), Product(title='Hammer Drill', description='This durable hammer drill is designed for heavy-duty tasks and includes a built-in level for enhanced precision. The high-speed steel bits ensure efficient drilling through tougher surfaces.'), Product(title='Wood Chisel Set', description='This premium wood chisel set includes various sizes to tackle any woodworking project. Made from high-carbon steel, each chisel is sharpened to a fine edge for accurate detailing.')]\n"
     ]
    }
   ],
   "source": [
    "persisted_objects_fp = \"objects.jsonl\"\n",
    "if not Path(persisted_objects_fp).exists():\n",
    "    objects = generate_physical_objects()\n",
    "    save_models_to_jsonl(objects, persisted_objects_fp)\n",
    "    print(f\"Created {len(objects)} unique objects\")\n",
    "    print(f\"First 10 objects: {objects[:10]}\")\n",
    "else:\n",
    "    objects = load_models_from_jsonl(\n",
    "        persisted_objects_fp, Product\n",
    "    )\n",
    "    print(f\"Loaded {len(objects)} unique objects\")\n",
    "    print(f\"First 10 objects: {objects[:10]}\")\n",
    "    "
   ]
  },
  {
   "cell_type": "markdown",
   "metadata": {},
   "source": [
    "We have created the list of objects. Now we will create the product reviews."
   ]
  },
  {
   "cell_type": "code",
   "execution_count": 2,
   "metadata": {},
   "outputs": [],
   "source": [
    "# Patch the AsyncOpenAI client\n",
    "async_client = instructor.from_openai(AsyncOpenAI())\n",
    "\n",
    "\n",
    "class Review(BaseModel):\n",
    "    review: str\n",
    "\n",
    "\n",
    "class AllObjectInfo(BaseModel):\n",
    "    product_title: str\n",
    "    product_description: str\n",
    "    review: str\n",
    "\n",
    "\n",
    "async def make_reviews(\n",
    "    product: Product, n: int, semaphore: asyncio.Semaphore = asyncio.Semaphore(1)\n",
    ") -> List[AllObjectInfo]:\n",
    "    async with semaphore:\n",
    "        prompt = f\"\"\"\n",
    "        Write {n} realistic but detailed/specific product reviews that might show up on a hardware store's website.\n",
    "\n",
    "        The reviews should be about the following product:\n",
    "        Product Title: {product.title}\n",
    "        Product Description: {product.description}\n",
    "        \n",
    "        Add many relevant and concrete facts about the products (this is for synthetic data generation, make up facts about each product as necessary).\n",
    "\n",
    "        To see the format of a possible review, here is a review for a saw:\n",
    "        ```\n",
    "        I've enjoyed using this saw. It is lightweight and the battery lasts longer than other brands.\n",
    "        I've been using it for 3 years now and it has been very durable. It was twice as expensive as the PX-500. But\n",
    "        it is comfortable to hold because of the light weight.\n",
    "        ```\n",
    "\n",
    "        Respond only with the reviews, and nothing else.\n",
    "        \"\"\"\n",
    "\n",
    "        try:\n",
    "            result = await async_client.chat.completions.create(\n",
    "                model=\"gpt-4o\",\n",
    "                response_model=List[Review],\n",
    "                messages=[{\"role\": \"user\", \"content\": prompt}],\n",
    "            )\n",
    "            return [\n",
    "                AllObjectInfo(\n",
    "                    product_title=product.title,\n",
    "                    product_description=product.description,\n",
    "                    review=r.review,\n",
    "                )\n",
    "                for r in result\n",
    "            ]\n",
    "\n",
    "        except Exception as e:\n",
    "            print(f\"Error generating FreeCAD code: {str(e)}\")\n",
    "            return []\n",
    "\n",
    "\n",
    "async def create_synthetic_reviews(\n",
    "    max_concurrency: int = 20, reviews_per_product: int = reviews_per_product\n",
    ") -> List[AllObjectInfo]:\n",
    "    out = []\n",
    "    semaphore = asyncio.Semaphore(max_concurrency)\n",
    "    tasks = [make_reviews(o, reviews_per_product, semaphore) for o in objects]\n",
    "    results = await asyncio.gather(*tasks, return_exceptions=True)\n",
    "    for r in results:\n",
    "        if not isinstance(r, Exception):\n",
    "            out.extend(r)\n",
    "    return out\n",
    "\n",
    "\n",
    "reviews = await create_synthetic_reviews()"
   ]
  },
  {
   "cell_type": "markdown",
   "metadata": {},
   "source": [
    "Store the items to be retrieved in LanceDB"
   ]
  },
  {
   "cell_type": "code",
   "execution_count": 3,
   "metadata": {},
   "outputs": [],
   "source": [
    "db = lancedb.connect(\"./lancedb\")\n",
    "func = get_registry().get(\"openai\").create(name=\"text-embedding-3-small\")\n",
    "\n",
    "\n",
    "class Products(LanceModel):\n",
    "    id: str = func.SourceField()\n",
    "    title: str = func.SourceField()\n",
    "    description: str = func.SourceField()\n",
    "    vector: Vector(func.ndims()) = func.VectorField()\n",
    "\n",
    "\n",
    "products_table = db.create_table(\"products\", schema=Products, mode=\"overwrite\")\n",
    "products_data = [\n",
    "    {\"id\": f\"{i}\", \"title\": obj.title, \"description\": obj.description}\n",
    "    for i, obj in enumerate(objects)\n",
    "]\n",
    "products_table.add(products_data)\n",
    "products_table.create_fts_index(\"description\", replace=True)\n",
    "product_id_map = {\n",
    "    p[\"title\"]: p[\"id\"] for p in products_table.to_pandas().to_dict(\"records\")\n",
    "}\n",
    "\n",
    "\n",
    "class Reviews(LanceModel):\n",
    "    id: str = func.SourceField()\n",
    "    product_title: str = func.SourceField()\n",
    "    product_description: str = func.SourceField()\n",
    "    review: str = func.SourceField()\n",
    "    vector: Vector(func.ndims()) = func.VectorField()\n",
    "\n",
    "\n",
    "reviews_table = db.create_table(\"reviews\", schema=Reviews, mode=\"overwrite\")\n",
    "\n",
    "reviews_with_product_id = [\n",
    "    {\n",
    "        \"id\": f\"{i}\",\n",
    "        \"product_title\": review.product_title,\n",
    "        \"product_description\": review.product_description,\n",
    "        \"review\": review.review,\n",
    "    }\n",
    "    for i, review in enumerate(reviews)\n",
    "]\n",
    "reviews_table.add(reviews_with_product_id)\n",
    "reviews_table.create_fts_index(\"review\", replace=True)"
   ]
  },
  {
   "cell_type": "markdown",
   "metadata": {},
   "source": [
    "In case you want to see the data quickly in a text editor, we also store the data in JSON."
   ]
  },
  {
   "cell_type": "code",
   "execution_count": 4,
   "metadata": {},
   "outputs": [],
   "source": [
    "with open(\"./reviews.json\", \"w\") as f:\n",
    "    json.dump([i.dict() for i in reviews], f)"
   ]
  }
 ],
 "metadata": {
  "kernelspec": {
   "display_name": "sys-imp-rag",
   "language": "python",
   "name": "sys-imp-rag"
  },
  "language_info": {
   "codemirror_mode": {
    "name": "ipython",
    "version": 3
   },
   "file_extension": ".py",
   "mimetype": "text/x-python",
   "name": "python",
   "nbconvert_exporter": "python",
   "pygments_lexer": "ipython3",
   "version": "3.11.9"
  }
 },
 "nbformat": 4,
 "nbformat_minor": 4
}
